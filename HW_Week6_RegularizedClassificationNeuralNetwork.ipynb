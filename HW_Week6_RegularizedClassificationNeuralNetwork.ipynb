{
  "nbformat": 4,
  "nbformat_minor": 0,
  "metadata": {
    "colab": {
      "name": "HW_Week6-RegularizedClassificationNeuralNetwork.ipynb",
      "provenance": [],
      "collapsed_sections": []
    },
    "kernelspec": {
      "display_name": "Python 3",
      "name": "python3"
    },
    "language_info": {
      "name": "python"
    }
  },
  "cells": [
    {
      "cell_type": "markdown",
      "metadata": {
        "id": "Wz_30qmH5Oxr"
      },
      "source": [
        "Fully connected (Multi Layer Perceptron)"
      ]
    },
    {
      "cell_type": "code",
      "metadata": {
        "id": "09hIq_sGzs_F"
      },
      "source": [
        "import numpy as np\n",
        "import pandas as pd\n",
        "import matplotlib.pyplot as plt"
      ],
      "execution_count": null,
      "outputs": []
    },
    {
      "cell_type": "code",
      "metadata": {
        "id": "vQ2jd9yNqN82"
      },
      "source": [
        "def sigmoid(z):\n",
        "    return 1 / (1 + np.exp(-z))\n",
        "\n",
        "def sigmoid_derivative(z):\n",
        "    return z * (1 - z)\n",
        "\n",
        "def get_labels(proba):\n",
        "    return (proba >= 0.5) * 1"
      ],
      "execution_count": null,
      "outputs": []
    },
    {
      "cell_type": "code",
      "metadata": {
        "id": "OF0-VJ5dx_B-"
      },
      "source": [
        "class RegularizedNeuralNetwork:\n",
        "\n",
        "    def __init__(self, layers_size, lr, lambd):\n",
        "        \n",
        "        # +1 -> add bias unit\n",
        "        self.w0 = np.random.rand(layers_size[0] + 1 , layers_size[1]) * 10 - 5\n",
        "        self.w1 = np.random.rand(layers_size[1] + 1 , layers_size[2]) * 10 - 5\n",
        "        self.w2 = np.random.rand(layers_size[2] + 1 , layers_size[3]) * 10 - 5\n",
        "        self.w3 = np.random.rand(layers_size[3] + 1 , layers_size[4]) * 10 - 5\n",
        "        # new layers\n",
        "\n",
        "        self.lr = lr\n",
        "        self.lambd = lambd\n",
        "        \n",
        "    def forward_propogation(self, features):\n",
        "        m, n = features.shape\n",
        "\n",
        "        self.a0 = features\n",
        "        self.a0 = np.hstack((np.ones((self.a0.shape[0], 1)), self.a0))\n",
        "\n",
        "        self.a1 = sigmoid(self.a0 @ self.w0)\n",
        "        self.a1 = np.hstack((np.ones((self.a1.shape[0], 1)), self.a1))\n",
        "\n",
        "        self.a2 = sigmoid(self.a1 @ self.w1)\n",
        "        self.a2 = np.hstack((np.ones((self.a2.shape[0], 1)), self.a2))\n",
        "    \n",
        "        self.a3 = sigmoid(self.a2 @ self.w2)\n",
        "        self.a3 = np.hstack((np.ones((self.a3.shape[0], 1)), self.a3))\n",
        "\n",
        "        self.a4 = sigmoid(self.a3 @ self.w3)\n",
        "        # new layers\n",
        "        self.hyp = self.a4\n",
        "\n",
        "    def loss_function(self, labels):\n",
        "        self.final_loss = self.loss4 = self.hyp - labels\n",
        "\n",
        "    def back_propogation(self):\n",
        "        #new layers\n",
        "        self.loss3 = (self.w3 @ self.final_loss.T).T * sigmoid_derivative(self.a3) #\n",
        "        self.loss3 = self.loss3[:, 1:] # remove bias\n",
        "        \n",
        "        self.loss2 = (self.w2 @ self.loss3.T).T * sigmoid_derivative(self.a2) #\n",
        "        self.loss2 = self.loss2[:, 1:] # remove bias\n",
        "\n",
        "        self.loss1 = (self.w1 @ self.loss2.T).T * sigmoid_derivative(self.a1)\n",
        "        self.loss1 = self.loss1[:,  1:] # remove bias\n",
        "\n",
        "        m = self.a0.shape[0]\n",
        "\n",
        "        # new layers\n",
        "        self.w3 -= ((self.a3.T @ self.loss4) * self.lr + self.lambd * (self.w3 * 1)) / m\n",
        "        self.w2 -= ((self.a2.T @ self.loss3) * self.lr + self.lambd * (self.w2 * 1)) / m\n",
        "        self.w1 -= ((self.a1.T @ self.loss2) * self.lr + self.lambd * (self.w1 * 1)) / m\n",
        "        self.w0 -= ((self.a0.T @ self.loss1) * self.lr + self.lambd * (self.w0 * 1)) / m\n",
        "\n",
        "\n",
        "    def fit(self, features, labels):\n",
        "        \n",
        "        cnt_it = 50000\n",
        "        self.story = np.ndarray(shape = (cnt_it))\n",
        "        for it in range(cnt_it):\n",
        "            self.forward_propogation(features)\n",
        "            self.loss_function(labels)\n",
        "            \n",
        "            self.story[it] = self.cost_function(labels)\n",
        "\n",
        "            self.back_propogation()\n",
        "\n",
        "    def predict_proba(self, features):\n",
        "        self.forward_propogation(features)\n",
        "        return self.hyp\n",
        "\n",
        "    def cost_function(self, labels):\n",
        "        eps = 10**(-10)\n",
        "        m = labels.shape[0]\n",
        "\n",
        "        cost1 = - labels * np.log(self.hyp + eps)\n",
        "        cost2 = - (1 - labels) * np.log(1 - self.hyp + eps)\n",
        "        sum_cost = cost1 + cost2\n",
        "        average_cost = np.sum(sum_cost, axis = None) / m\n",
        "\n",
        "        return average_cost\n",
        "\n",
        "    def get_weights(self):\n",
        "        return [self.w0, self.w1, self.w2, self.w3] # new layers\n",
        "\n",
        "    def get_story(self):\n",
        "        return self.story"
      ],
      "execution_count": null,
      "outputs": []
    },
    {
      "cell_type": "code",
      "metadata": {
        "id": "d52usBzDyY5W"
      },
      "source": [
        "def plot_decision_boundary(model, fit_verdict, features_test, labels_test):\n",
        "    xx = np.linspace(-3, 5, 300)\n",
        "    yy = xx\n",
        "\n",
        "    m = np.array([[(x, y) for x in xx] for y in yy]).reshape(90000, 2)\n",
        "\n",
        "    pr = model.predict_proba(m)\n",
        "\n",
        "    mask = pr >= 0.5\n",
        "    x = m[:, 1:][mask]\n",
        "    y = m[:, :1][mask]\n",
        "\n",
        "    plt.plot(x, y, 'r.',  alpha = 0.3)\n",
        "\n",
        "    mask1 = pr < 0.5\n",
        "    x1 = m[:, 1:][mask1]\n",
        "    y1 = m[:, :1][mask1]\n",
        "    plt.plot(x1, y1, 'b.', alpha = 0.3)\n",
        "\n",
        "    mask2 = labels_test == 0\n",
        "    x2 = features_test[:, :1][mask2]\n",
        "    y2 = features_test[:, 1:][mask2]\n",
        "\n",
        "    mask3 = labels_test == 1\n",
        "    x3 = features_test[:, :1][mask3]\n",
        "    y3 = features_test[:, 1:][mask3]\n",
        "\n",
        "    plt.plot(x2, y2, 'k.')\n",
        "    plt.plot(x3, y3, 'w.')\n",
        "    plt.title(fit_verdict)\n",
        "\n",
        "    plt.show()"
      ],
      "execution_count": null,
      "outputs": []
    },
    {
      "cell_type": "markdown",
      "metadata": {
        "id": "2-dINd_ll-j1"
      },
      "source": [
        "Test dataset"
      ]
    },
    {
      "cell_type": "code",
      "metadata": {
        "id": "WM5ZTQ2n0rst"
      },
      "source": [
        "features_train = np.array([ [1, 1], [1, 2], [1, 3], [1, 4], [2, 1], [2, 2], [2, 3], [2, 4],\n",
        "                           [3, 1], [3, 2], [3, 3], [3, 4], [4, 1], [4, 2], [4, 3], [4, 4] ])\n",
        "\n",
        "labels_train = np.array([ [0], [0], [0], [1], [0], [0], [1], [1], [0], [1], [1], [0], [1], [1], [0], [1] ])"
      ],
      "execution_count": null,
      "outputs": []
    },
    {
      "cell_type": "code",
      "metadata": {
        "colab": {
          "base_uri": "https://localhost:8080/",
          "height": 281
        },
        "id": "TNOuJlPUx6H7",
        "outputId": "cf2c47c9-4c3f-4f31-f314-3660d718a801"
      },
      "source": [
        "nn = RegularizedNeuralNetwork(layers_size = np.array([2, 10, 10, 10, 1]), lr = 0.01, lambd = 0)\n",
        "nn.fit(features_train, labels_train)\n",
        "\n",
        "plot_decision_boundary(nn, fit_verdict = 'Clear overfitting (hight variance)',\n",
        "                       features_test = features_train, labels_test = labels_train)"
      ],
      "execution_count": null,
      "outputs": [
        {
          "output_type": "display_data",
          "data": {
            "image/png": "[encoded data removed]",
            "text/plain": [
              "<Figure size 432x288 with 1 Axes>"
            ]
          },
          "metadata": {
            "tags": [],
            "needs_background": "light"
          }
        }
      ]
    },
    {
      "cell_type": "code",
      "metadata": {
        "colab": {
          "base_uri": "https://localhost:8080/",
          "height": 281
        },
        "id": "Bk5IX1FLwI-6",
        "outputId": "a92cd7f5-60f6-4bf9-fab5-109c93c2758e"
      },
      "source": [
        "R_nn = RegularizedNeuralNetwork(layers_size = np.array([2, 10, 10, 10, 1]), lr = 0.01, lambd = 0.0002)\n",
        "R_nn.fit(features_train, labels_train)\n",
        "\n",
        "plot_decision_boundary(R_nn, fit_verdict = 'Just right!', features_test = features_train, labels_test = labels_train)"
      ],
      "execution_count": null,
      "outputs": [
        {
          "output_type": "display_data",
          "data": {
            "image/png": "[encoded data removed]",
            "text/plain": [
              "<Figure size 432x288 with 1 Axes>"
            ]
          },
          "metadata": {
            "tags": [],
            "needs_background": "light"
          }
        }
      ]
    },
    {
      "cell_type": "code",
      "metadata": {
        "colab": {
          "base_uri": "https://localhost:8080/",
          "height": 281
        },
        "id": "ap1HKrt5268P",
        "outputId": "dbac0c6a-1769-4b69-f254-e462d238f62a"
      },
      "source": [
        "SuperR_nn = RegularizedNeuralNetwork(layers_size = np.array([2, 10, 10, 10, 1]), lr = 0.01, lambd = 0.001)\n",
        "SuperR_nn.fit(features_train, labels_train)\n",
        "\n",
        "plot_decision_boundary(SuperR_nn, fit_verdict = 'Underfitting (hight bias)',\n",
        "                       features_test = features_train, labels_test = labels_train)"
      ],
      "execution_count": null,
      "outputs": [
        {
          "output_type": "display_data",
          "data": {
            "image/png": "[encoded data removed]",
            "text/plain": [
              "<Figure size 432x288 with 1 Axes>"
            ]
          },
          "metadata": {
            "tags": [],
            "needs_background": "light"
          }
        }
      ]
    },
    {
      "cell_type": "markdown",
      "metadata": {
        "id": "mHKDS29yl6IP"
      },
      "source": [
        "Real dataset"
      ]
    },
    {
      "cell_type": "code",
      "metadata": {
        "colab": {
          "base_uri": "https://localhost:8080/",
          "height": 419
        },
        "id": "C4EpBVySl5lC",
        "outputId": "6a464b00-eda3-4978-d362-c752a38f67b1"
      },
      "source": [
        "df = pd.read_csv('HW_Week6-RegularizedNeuralNetwork_data.csv', index_col = [0])\n",
        "df"
      ],
      "execution_count": null,
      "outputs": [
        {
          "output_type": "execute_result",
          "data": {
            "text/html": [
              "<div>\n",
              "<style scoped>\n",
              "    .dataframe tbody tr th:only-of-type {\n",
              "        vertical-align: middle;\n",
              "    }\n",
              "\n",
              "    .dataframe tbody tr th {\n",
              "        vertical-align: top;\n",
              "    }\n",
              "\n",
              "    .dataframe thead th {\n",
              "        text-align: right;\n",
              "    }\n",
              "</style>\n",
              "<table border=\"1\" class=\"dataframe\">\n",
              "  <thead>\n",
              "    <tr style=\"text-align: right;\">\n",
              "      <th></th>\n",
              "      <th>exam1</th>\n",
              "      <th>exam2</th>\n",
              "      <th>admited?</th>\n",
              "    </tr>\n",
              "  </thead>\n",
              "  <tbody>\n",
              "    <tr>\n",
              "      <th>0</th>\n",
              "      <td>34.623660</td>\n",
              "      <td>78.024693</td>\n",
              "      <td>0.0</td>\n",
              "    </tr>\n",
              "    <tr>\n",
              "      <th>1</th>\n",
              "      <td>30.286711</td>\n",
              "      <td>43.894998</td>\n",
              "      <td>0.0</td>\n",
              "    </tr>\n",
              "    <tr>\n",
              "      <th>2</th>\n",
              "      <td>35.847409</td>\n",
              "      <td>72.902198</td>\n",
              "      <td>0.0</td>\n",
              "    </tr>\n",
              "    <tr>\n",
              "      <th>3</th>\n",
              "      <td>60.182599</td>\n",
              "      <td>86.308552</td>\n",
              "      <td>1.0</td>\n",
              "    </tr>\n",
              "    <tr>\n",
              "      <th>4</th>\n",
              "      <td>79.032736</td>\n",
              "      <td>75.344376</td>\n",
              "      <td>1.0</td>\n",
              "    </tr>\n",
              "    <tr>\n",
              "      <th>...</th>\n",
              "      <td>...</td>\n",
              "      <td>...</td>\n",
              "      <td>...</td>\n",
              "    </tr>\n",
              "    <tr>\n",
              "      <th>95</th>\n",
              "      <td>83.489163</td>\n",
              "      <td>48.380286</td>\n",
              "      <td>1.0</td>\n",
              "    </tr>\n",
              "    <tr>\n",
              "      <th>96</th>\n",
              "      <td>42.261701</td>\n",
              "      <td>87.103851</td>\n",
              "      <td>1.0</td>\n",
              "    </tr>\n",
              "    <tr>\n",
              "      <th>97</th>\n",
              "      <td>99.315009</td>\n",
              "      <td>68.775409</td>\n",
              "      <td>1.0</td>\n",
              "    </tr>\n",
              "    <tr>\n",
              "      <th>98</th>\n",
              "      <td>55.340018</td>\n",
              "      <td>64.931938</td>\n",
              "      <td>1.0</td>\n",
              "    </tr>\n",
              "    <tr>\n",
              "      <th>99</th>\n",
              "      <td>74.775893</td>\n",
              "      <td>89.529813</td>\n",
              "      <td>1.0</td>\n",
              "    </tr>\n",
              "  </tbody>\n",
              "</table>\n",
              "<p>100 rows × 3 columns</p>\n",
              "</div>"
            ],
            "text/plain": [
              "        exam1      exam2  admited?\n",
              "0   34.623660  78.024693       0.0\n",
              "1   30.286711  43.894998       0.0\n",
              "2   35.847409  72.902198       0.0\n",
              "3   60.182599  86.308552       1.0\n",
              "4   79.032736  75.344376       1.0\n",
              "..        ...        ...       ...\n",
              "95  83.489163  48.380286       1.0\n",
              "96  42.261701  87.103851       1.0\n",
              "97  99.315009  68.775409       1.0\n",
              "98  55.340018  64.931938       1.0\n",
              "99  74.775893  89.529813       1.0\n",
              "\n",
              "[100 rows x 3 columns]"
            ]
          },
          "metadata": {
            "tags": []
          },
          "execution_count": 132
        }
      ]
    },
    {
      "cell_type": "code",
      "metadata": {
        "colab": {
          "base_uri": "https://localhost:8080/",
          "height": 279
        },
        "id": "MmuY0TSfodf-",
        "outputId": "ac51ec7d-085a-484e-b215-9ea963a79cd1"
      },
      "source": [
        "df1 = df[df['admited?'] == 0]\n",
        "df2 = df[df['admited?'] == 1]\n",
        "ax = df1.plot.scatter(x = 'exam1', y = 'exam2', c = 'g')\n",
        "df2.plot.scatter(x = 'exam1', y = 'exam2', c = 'r', ax = ax)\n",
        "plt.show()"
      ],
      "execution_count": null,
      "outputs": [
        {
          "output_type": "display_data",
          "data": {
            "image/png": "[encoded data removed]",
            "text/plain": [
              "<Figure size 432x288 with 1 Axes>"
            ]
          },
          "metadata": {
            "tags": [],
            "needs_background": "light"
          }
        }
      ]
    },
    {
      "cell_type": "code",
      "metadata": {
        "id": "919upyMyn25n"
      },
      "source": [
        "def data_split(df, test_size):\n",
        "    df = df.sample(frac=1).reset_index(drop=True)\n",
        "\n",
        "    features, labels = df.iloc[ : , : -1 ], df.iloc[ : , [-1] ]\n",
        "\n",
        "    features = (features - features.mean()) / features.std()\n",
        "\n",
        "    features, labels = features.to_numpy(), labels.to_numpy()\n",
        "\n",
        "    features_train, features_test = features[ : -test_size , : ], features[ -test_size : , : ]\n",
        "    labels_train, labels_test = labels[ : -test_size , : ], labels[ -test_size : , : ]\n",
        "    \n",
        "    return [features_train, features_test, labels_train, labels_test]"
      ],
      "execution_count": null,
      "outputs": []
    },
    {
      "cell_type": "code",
      "metadata": {
        "id": "mKD3AoJYoKwG"
      },
      "source": [
        "features_train, features_test, labels_train, labels_test = data_split(df, 1)\n",
        "\n",
        "Real_Rnn = RegularizedNeuralNetwork(layers_size = np.array([2, 50, 50, 50, 1]), lr = 0.001, lambd = 0.001)\n",
        "Real_Rnn.fit(features_train, labels_train)"
      ],
      "execution_count": null,
      "outputs": []
    },
    {
      "cell_type": "code",
      "metadata": {
        "colab": {
          "base_uri": "https://localhost:8080/",
          "height": 265
        },
        "id": "1whLAs7To5hA",
        "outputId": "c9aab2d8-7f56-4a12-c85f-801e0bc94526"
      },
      "source": [
        "plot_decision_boundary(Real_Rnn, fit_verdict = '',\n",
        "                       features_test = features_train, labels_test = labels_train)"
      ],
      "execution_count": null,
      "outputs": [
        {
          "output_type": "display_data",
          "data": {
            "image/png": "[encoded data removed]",
            "text/plain": [
              "<Figure size 432x288 with 1 Axes>"
            ]
          },
          "metadata": {
            "tags": [],
            "needs_background": "light"
          }
        }
      ]
    },
    {
      "cell_type": "code",
      "metadata": {
        "colab": {
          "base_uri": "https://localhost:8080/",
          "height": 265
        },
        "id": "SAxx_j9BvoUk",
        "outputId": "52f52747-ce51-42de-af44-8aedd47a2187"
      },
      "source": [
        "story = Real_Rnn.get_story()\n",
        "x = np.arange(len(story))\n",
        "plt.plot(x, story)\n",
        "plt.show()"
      ],
      "execution_count": null,
      "outputs": [
        {
          "output_type": "display_data",
          "data": {
            "image/png": "[encoded data removed]",
            "text/plain": [
              "<Figure size 432x288 with 1 Axes>"
            ]
          },
          "metadata": {
            "tags": [],
            "needs_background": "light"
          }
        }
      ]
    }
  ]
}