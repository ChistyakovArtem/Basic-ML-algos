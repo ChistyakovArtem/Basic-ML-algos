{
  "nbformat": 4,
  "nbformat_minor": 0,
  "metadata": {
    "colab": {
      "name": "HW_Week2-LinearRegression.ipynb",
      "provenance": [],
      "collapsed_sections": []
    },
    "kernelspec": {
      "name": "python3",
      "display_name": "Python 3"
    },
    "language_info": {
      "name": "python"
    }
  },
  "cells": [
    {
      "cell_type": "code",
      "metadata": {
        "id": "yahl8itEcqnf"
      },
      "source": [
        "import numpy as np\n",
        "import pandas as pd\n",
        "import matplotlib.pyplot as plt"
      ],
      "execution_count": null,
      "outputs": []
    },
    {
      "cell_type": "code",
      "metadata": {
        "id": "bCbtvlp1ULVg"
      },
      "source": [
        "class NormalEquationLogisticRegression:\n",
        "\n",
        "    def fit(self, x, y):\n",
        "        xT = np.transpose(x)\n",
        "        m = x.shape[0]\n",
        "        self.theta = np.transpose(np.linalg.inv(xT @ x) @ (xT @ y))\n",
        "        self.score = np.sum((self.theta @ np.transpose(x) - np.transpose(y))**2) / (2 * m)\n",
        "\n",
        "    def predict(self, x):\n",
        "        return self.theta @ np.transpose(x)\n",
        "\n",
        "    def get_score(self):\n",
        "        return self.score\n",
        "    \n",
        "    def get_theta(self):\n",
        "        return self.theta"
      ],
      "execution_count": null,
      "outputs": []
    },
    {
      "cell_type": "code",
      "metadata": {
        "id": "pWmuEimbaaj5"
      },
      "source": [
        "class GradientDescentLogisticRegression:\n",
        "\n",
        "    def gradient_descent(self, x, y, theta, lr, cnt_it):\n",
        "        m = x.shape[0]\n",
        "        for it in range(cnt_it):\n",
        "            hyp = np.dot(x, theta)\n",
        "            loss = hyp - y\n",
        "            xT = np.transpose(x)\n",
        "            gradient = np.dot(xT, loss) / m\n",
        "            theta = theta - lr * gradient\n",
        "        return theta\n",
        "\n",
        "    def fit(self, x, y):\n",
        "        m, n = x.shape\n",
        "        theta = np.random.rand(n, 1)\n",
        "        self.theta = np.transpose(self.gradient_descent(x, y, theta, 0.01, 10000))\n",
        "        self.score = np.sum((self.theta @ np.transpose(x) - np.transpose(y))**2) / (2 * m)\n",
        "\n",
        "    def predict(self, x):\n",
        "        return self.theta @ np.transpose(x)\n",
        "\n",
        "    def get_score(self):\n",
        "        return self.score \n",
        "\n",
        "    def get_theta(self):\n",
        "        return self.theta"
      ],
      "execution_count": null,
      "outputs": []
    },
    {
      "cell_type": "code",
      "metadata": {
        "id": "BkCTwPd5X4kl"
      },
      "source": [
        "def data_split(df, test_size):\n",
        "    x, y = df.iloc[ : , : -1 ], df.iloc[ : , [-1] ]\n",
        "\n",
        "    #x = (x - x.mean()) / x.std()\n",
        "    # y = (y - y.mean()) / y.std()\n",
        "\n",
        "    x, y = x.to_numpy(), y.to_numpy()\n",
        "\n",
        "    x = np.c_[np.ones(x.shape[0]), x]\n",
        "\n",
        "    x_train, x_test = x[ : -test_size , : ], x[ -test_size : , : ]\n",
        "    y_train, y_test = y[ : -test_size , : ], y[ -test_size : , : ]\n",
        "\n",
        "    return [x_train, y_train, x_test, y_test]"
      ],
      "execution_count": null,
      "outputs": []
    },
    {
      "cell_type": "code",
      "metadata": {
        "id": "CH-egNPVf4qc"
      },
      "source": [
        "def NormalEquationModel(df, test_size):\n",
        "    x_train, y_train, x_test, y_test = data_split(df, test_size)\n",
        "\n",
        "    NELR = NormalEquationLogisticRegression()\n",
        "    NELR.fit(x_train, y_train)\n",
        "\n",
        "    y_pred = NELR.predict(x_test)\n",
        "    score = NELR.get_score()\n",
        "    theta= NELR.get_theta()\n",
        "\n",
        "    print('y_pred =', y_pred)\n",
        "    print('y_test =', y_test)\n",
        "    print('score =', score)\n",
        "    print('theta =', theta)"
      ],
      "execution_count": null,
      "outputs": []
    },
    {
      "cell_type": "code",
      "metadata": {
        "id": "kNUv-NxJf7Ws"
      },
      "source": [
        "def GradientDescentModel(df, test_size):\n",
        "    x_train, y_train, x_test, y_test = data_split(df, test_size)\n",
        "\n",
        "    GDLR = GradientDescentLogisticRegression()\n",
        "    GDLR.fit(x_train, y_train)\n",
        "\n",
        "    y_pred = GDLR.predict(x_test)\n",
        "    score = GDLR.get_score()\n",
        "    theta = GDLR.get_theta()\n",
        "\n",
        "    print('y_pred =', y_pred)\n",
        "    print('y_test =', y_test)\n",
        "    print('score =', score)\n",
        "    print('theta =', theta)"
      ],
      "execution_count": null,
      "outputs": []
    },
    {
      "cell_type": "markdown",
      "metadata": {
        "id": "2zprrqDKYSXN"
      },
      "source": [
        "Test DataFrame"
      ]
    },
    {
      "cell_type": "code",
      "metadata": {
        "id": "G2YpfL3RX5NB"
      },
      "source": [
        "df = pd.DataFrame   (np.array([[2104, 5, 1, 45, 10594],\n",
        "                               [1416, 3, 2, 40, 10425],\n",
        "                               [1536, 3, 2, 30, 10475],\n",
        "                               [2348, 2, 2, 35, 10663],\n",
        "                               [2000, 3, 1, 45, 10558],\n",
        "                               [1500, 4, 2, 40, 10451],\n",
        "                               [3400, 7, 3, 20, 10984]]),\n",
        "        columns = ['size', 'number of bedrooms', 'number of floors', 'age', 'price'])"
      ],
      "execution_count": null,
      "outputs": []
    },
    {
      "cell_type": "code",
      "metadata": {
        "colab": {
          "base_uri": "https://localhost:8080/"
        },
        "id": "7BckKRnDfBdF",
        "outputId": "d8cb1eeb-bc49-4789-c656-3d7d7687fc9f"
      },
      "source": [
        "print(\"Normal Equation solution\")\n",
        "NormalEquationModel(df, 1)\n",
        "print(\"Gradient Descent solution\")\n",
        "GradientDescentModel(df, 1)"
      ],
      "execution_count": null,
      "outputs": [
        {
          "output_type": "stream",
          "name": "stdout",
          "text": [
            "Normal Equation solution\n",
            "y_pred = [[10984.]]\n",
            "y_test = [[10984]]\n",
            "score = 8.23441756184288e-20\n",
            "theta = [[ 1.013e+04  2.500e-01  5.000e+00  3.000e+00 -2.000e+00]]\n",
            "Gradient Descent solution\n",
            "y_pred = [[nan]]\n",
            "y_test = [[10984]]\n",
            "score = nan\n",
            "theta = [[nan nan nan nan nan]]\n"
          ]
        },
        {
          "output_type": "stream",
          "name": "stderr",
          "text": [
            "/usr/local/lib/python3.7/dist-packages/ipykernel_launcher.py:10: RuntimeWarning: invalid value encountered in subtract\n",
            "  # Remove the CWD from sys.path while we load stuff.\n"
          ]
        }
      ]
    },
    {
      "cell_type": "markdown",
      "metadata": {
        "id": "-cYrEJ4NYWOJ"
      },
      "source": [
        "Homework DataFrame"
      ]
    },
    {
      "cell_type": "code",
      "metadata": {
        "colab": {
          "base_uri": "https://localhost:8080/",
          "height": 421
        },
        "id": "O4I8ztfJYa5y",
        "outputId": "acd93b4a-b711-4696-fa5a-f2b7ed1751e2"
      },
      "source": [
        "df = pd.read_csv('HW_Week2-LinearRegression_data.csv', index_col=[0])\n",
        "print(df)\n",
        "df.plot.scatter(x=\"population\", y=\"profit\");\n",
        "plt.show()"
      ],
      "execution_count": null,
      "outputs": [
        {
          "output_type": "error",
          "ename": "FileNotFoundError",
          "evalue": "ignored",
          "traceback": [
            "\u001b[0;31m---------------------------------------------------------------------------\u001b[0m",
            "\u001b[0;31mFileNotFoundError\u001b[0m                         Traceback (most recent call last)",
            "\u001b[0;32m<ipython-input-9-c5bfa87f8540>\u001b[0m in \u001b[0;36m<module>\u001b[0;34m()\u001b[0m\n\u001b[0;32m----> 1\u001b[0;31m \u001b[0mdf\u001b[0m \u001b[0;34m=\u001b[0m \u001b[0mpd\u001b[0m\u001b[0;34m.\u001b[0m\u001b[0mread_csv\u001b[0m\u001b[0;34m(\u001b[0m\u001b[0;34m'HW_Week2-LinearRegression_data.csv'\u001b[0m\u001b[0;34m,\u001b[0m \u001b[0mindex_col\u001b[0m\u001b[0;34m=\u001b[0m\u001b[0;34m[\u001b[0m\u001b[0;36m0\u001b[0m\u001b[0;34m]\u001b[0m\u001b[0;34m)\u001b[0m\u001b[0;34m\u001b[0m\u001b[0;34m\u001b[0m\u001b[0m\n\u001b[0m\u001b[1;32m      2\u001b[0m \u001b[0mprint\u001b[0m\u001b[0;34m(\u001b[0m\u001b[0mdf\u001b[0m\u001b[0;34m)\u001b[0m\u001b[0;34m\u001b[0m\u001b[0;34m\u001b[0m\u001b[0m\n\u001b[1;32m      3\u001b[0m \u001b[0mdf\u001b[0m\u001b[0;34m.\u001b[0m\u001b[0mplot\u001b[0m\u001b[0;34m.\u001b[0m\u001b[0mscatter\u001b[0m\u001b[0;34m(\u001b[0m\u001b[0mx\u001b[0m\u001b[0;34m=\u001b[0m\u001b[0;34m\"population\"\u001b[0m\u001b[0;34m,\u001b[0m \u001b[0my\u001b[0m\u001b[0;34m=\u001b[0m\u001b[0;34m\"profit\"\u001b[0m\u001b[0;34m)\u001b[0m\u001b[0;34m;\u001b[0m\u001b[0;34m\u001b[0m\u001b[0;34m\u001b[0m\u001b[0m\n\u001b[1;32m      4\u001b[0m \u001b[0mplt\u001b[0m\u001b[0;34m.\u001b[0m\u001b[0mshow\u001b[0m\u001b[0;34m(\u001b[0m\u001b[0;34m)\u001b[0m\u001b[0;34m\u001b[0m\u001b[0;34m\u001b[0m\u001b[0m\n",
            "\u001b[0;32m/usr/local/lib/python3.7/dist-packages/pandas/io/parsers.py\u001b[0m in \u001b[0;36mread_csv\u001b[0;34m(filepath_or_buffer, sep, delimiter, header, names, index_col, usecols, squeeze, prefix, mangle_dupe_cols, dtype, engine, converters, true_values, false_values, skipinitialspace, skiprows, skipfooter, nrows, na_values, keep_default_na, na_filter, verbose, skip_blank_lines, parse_dates, infer_datetime_format, keep_date_col, date_parser, dayfirst, cache_dates, iterator, chunksize, compression, thousands, decimal, lineterminator, quotechar, quoting, doublequote, escapechar, comment, encoding, dialect, error_bad_lines, warn_bad_lines, delim_whitespace, low_memory, memory_map, float_precision)\u001b[0m\n\u001b[1;32m    686\u001b[0m     )\n\u001b[1;32m    687\u001b[0m \u001b[0;34m\u001b[0m\u001b[0m\n\u001b[0;32m--> 688\u001b[0;31m     \u001b[0;32mreturn\u001b[0m \u001b[0m_read\u001b[0m\u001b[0;34m(\u001b[0m\u001b[0mfilepath_or_buffer\u001b[0m\u001b[0;34m,\u001b[0m \u001b[0mkwds\u001b[0m\u001b[0;34m)\u001b[0m\u001b[0;34m\u001b[0m\u001b[0;34m\u001b[0m\u001b[0m\n\u001b[0m\u001b[1;32m    689\u001b[0m \u001b[0;34m\u001b[0m\u001b[0m\n\u001b[1;32m    690\u001b[0m \u001b[0;34m\u001b[0m\u001b[0m\n",
            "\u001b[0;32m/usr/local/lib/python3.7/dist-packages/pandas/io/parsers.py\u001b[0m in \u001b[0;36m_read\u001b[0;34m(filepath_or_buffer, kwds)\u001b[0m\n\u001b[1;32m    452\u001b[0m \u001b[0;34m\u001b[0m\u001b[0m\n\u001b[1;32m    453\u001b[0m     \u001b[0;31m# Create the parser.\u001b[0m\u001b[0;34m\u001b[0m\u001b[0;34m\u001b[0m\u001b[0;34m\u001b[0m\u001b[0m\n\u001b[0;32m--> 454\u001b[0;31m     \u001b[0mparser\u001b[0m \u001b[0;34m=\u001b[0m \u001b[0mTextFileReader\u001b[0m\u001b[0;34m(\u001b[0m\u001b[0mfp_or_buf\u001b[0m\u001b[0;34m,\u001b[0m \u001b[0;34m**\u001b[0m\u001b[0mkwds\u001b[0m\u001b[0;34m)\u001b[0m\u001b[0;34m\u001b[0m\u001b[0;34m\u001b[0m\u001b[0m\n\u001b[0m\u001b[1;32m    455\u001b[0m \u001b[0;34m\u001b[0m\u001b[0m\n\u001b[1;32m    456\u001b[0m     \u001b[0;32mif\u001b[0m \u001b[0mchunksize\u001b[0m \u001b[0;32mor\u001b[0m \u001b[0miterator\u001b[0m\u001b[0;34m:\u001b[0m\u001b[0;34m\u001b[0m\u001b[0;34m\u001b[0m\u001b[0m\n",
            "\u001b[0;32m/usr/local/lib/python3.7/dist-packages/pandas/io/parsers.py\u001b[0m in \u001b[0;36m__init__\u001b[0;34m(self, f, engine, **kwds)\u001b[0m\n\u001b[1;32m    946\u001b[0m             \u001b[0mself\u001b[0m\u001b[0;34m.\u001b[0m\u001b[0moptions\u001b[0m\u001b[0;34m[\u001b[0m\u001b[0;34m\"has_index_names\"\u001b[0m\u001b[0;34m]\u001b[0m \u001b[0;34m=\u001b[0m \u001b[0mkwds\u001b[0m\u001b[0;34m[\u001b[0m\u001b[0;34m\"has_index_names\"\u001b[0m\u001b[0;34m]\u001b[0m\u001b[0;34m\u001b[0m\u001b[0;34m\u001b[0m\u001b[0m\n\u001b[1;32m    947\u001b[0m \u001b[0;34m\u001b[0m\u001b[0m\n\u001b[0;32m--> 948\u001b[0;31m         \u001b[0mself\u001b[0m\u001b[0;34m.\u001b[0m\u001b[0m_make_engine\u001b[0m\u001b[0;34m(\u001b[0m\u001b[0mself\u001b[0m\u001b[0;34m.\u001b[0m\u001b[0mengine\u001b[0m\u001b[0;34m)\u001b[0m\u001b[0;34m\u001b[0m\u001b[0;34m\u001b[0m\u001b[0m\n\u001b[0m\u001b[1;32m    949\u001b[0m \u001b[0;34m\u001b[0m\u001b[0m\n\u001b[1;32m    950\u001b[0m     \u001b[0;32mdef\u001b[0m \u001b[0mclose\u001b[0m\u001b[0;34m(\u001b[0m\u001b[0mself\u001b[0m\u001b[0;34m)\u001b[0m\u001b[0;34m:\u001b[0m\u001b[0;34m\u001b[0m\u001b[0;34m\u001b[0m\u001b[0m\n",
            "\u001b[0;32m/usr/local/lib/python3.7/dist-packages/pandas/io/parsers.py\u001b[0m in \u001b[0;36m_make_engine\u001b[0;34m(self, engine)\u001b[0m\n\u001b[1;32m   1178\u001b[0m     \u001b[0;32mdef\u001b[0m \u001b[0m_make_engine\u001b[0m\u001b[0;34m(\u001b[0m\u001b[0mself\u001b[0m\u001b[0;34m,\u001b[0m \u001b[0mengine\u001b[0m\u001b[0;34m=\u001b[0m\u001b[0;34m\"c\"\u001b[0m\u001b[0;34m)\u001b[0m\u001b[0;34m:\u001b[0m\u001b[0;34m\u001b[0m\u001b[0;34m\u001b[0m\u001b[0m\n\u001b[1;32m   1179\u001b[0m         \u001b[0;32mif\u001b[0m \u001b[0mengine\u001b[0m \u001b[0;34m==\u001b[0m \u001b[0;34m\"c\"\u001b[0m\u001b[0;34m:\u001b[0m\u001b[0;34m\u001b[0m\u001b[0;34m\u001b[0m\u001b[0m\n\u001b[0;32m-> 1180\u001b[0;31m             \u001b[0mself\u001b[0m\u001b[0;34m.\u001b[0m\u001b[0m_engine\u001b[0m \u001b[0;34m=\u001b[0m \u001b[0mCParserWrapper\u001b[0m\u001b[0;34m(\u001b[0m\u001b[0mself\u001b[0m\u001b[0;34m.\u001b[0m\u001b[0mf\u001b[0m\u001b[0;34m,\u001b[0m \u001b[0;34m**\u001b[0m\u001b[0mself\u001b[0m\u001b[0;34m.\u001b[0m\u001b[0moptions\u001b[0m\u001b[0;34m)\u001b[0m\u001b[0;34m\u001b[0m\u001b[0;34m\u001b[0m\u001b[0m\n\u001b[0m\u001b[1;32m   1181\u001b[0m         \u001b[0;32melse\u001b[0m\u001b[0;34m:\u001b[0m\u001b[0;34m\u001b[0m\u001b[0;34m\u001b[0m\u001b[0m\n\u001b[1;32m   1182\u001b[0m             \u001b[0;32mif\u001b[0m \u001b[0mengine\u001b[0m \u001b[0;34m==\u001b[0m \u001b[0;34m\"python\"\u001b[0m\u001b[0;34m:\u001b[0m\u001b[0;34m\u001b[0m\u001b[0;34m\u001b[0m\u001b[0m\n",
            "\u001b[0;32m/usr/local/lib/python3.7/dist-packages/pandas/io/parsers.py\u001b[0m in \u001b[0;36m__init__\u001b[0;34m(self, src, **kwds)\u001b[0m\n\u001b[1;32m   2008\u001b[0m         \u001b[0mkwds\u001b[0m\u001b[0;34m[\u001b[0m\u001b[0;34m\"usecols\"\u001b[0m\u001b[0;34m]\u001b[0m \u001b[0;34m=\u001b[0m \u001b[0mself\u001b[0m\u001b[0;34m.\u001b[0m\u001b[0musecols\u001b[0m\u001b[0;34m\u001b[0m\u001b[0;34m\u001b[0m\u001b[0m\n\u001b[1;32m   2009\u001b[0m \u001b[0;34m\u001b[0m\u001b[0m\n\u001b[0;32m-> 2010\u001b[0;31m         \u001b[0mself\u001b[0m\u001b[0;34m.\u001b[0m\u001b[0m_reader\u001b[0m \u001b[0;34m=\u001b[0m \u001b[0mparsers\u001b[0m\u001b[0;34m.\u001b[0m\u001b[0mTextReader\u001b[0m\u001b[0;34m(\u001b[0m\u001b[0msrc\u001b[0m\u001b[0;34m,\u001b[0m \u001b[0;34m**\u001b[0m\u001b[0mkwds\u001b[0m\u001b[0;34m)\u001b[0m\u001b[0;34m\u001b[0m\u001b[0;34m\u001b[0m\u001b[0m\n\u001b[0m\u001b[1;32m   2011\u001b[0m         \u001b[0mself\u001b[0m\u001b[0;34m.\u001b[0m\u001b[0munnamed_cols\u001b[0m \u001b[0;34m=\u001b[0m \u001b[0mself\u001b[0m\u001b[0;34m.\u001b[0m\u001b[0m_reader\u001b[0m\u001b[0;34m.\u001b[0m\u001b[0munnamed_cols\u001b[0m\u001b[0;34m\u001b[0m\u001b[0;34m\u001b[0m\u001b[0m\n\u001b[1;32m   2012\u001b[0m \u001b[0;34m\u001b[0m\u001b[0m\n",
            "\u001b[0;32mpandas/_libs/parsers.pyx\u001b[0m in \u001b[0;36mpandas._libs.parsers.TextReader.__cinit__\u001b[0;34m()\u001b[0m\n",
            "\u001b[0;32mpandas/_libs/parsers.pyx\u001b[0m in \u001b[0;36mpandas._libs.parsers.TextReader._setup_parser_source\u001b[0;34m()\u001b[0m\n",
            "\u001b[0;31mFileNotFoundError\u001b[0m: [Errno 2] No such file or directory: 'HW_Week2-LinearRegression_data.csv'"
          ]
        }
      ]
    },
    {
      "cell_type": "code",
      "metadata": {
        "colab": {
          "base_uri": "https://localhost:8080/"
        },
        "id": "haHqG_zdyKGs",
        "outputId": "5b9b12f5-bf91-45f6-a8a2-f5089c675cfe"
      },
      "source": [
        "print(\"Normal Equation solution\")\n",
        "NormalEquationModel(df, 10)\n",
        "print(\"Gradient Descent solution\")\n",
        "GradientDescentModel(df, 10)\n"
      ],
      "execution_count": null,
      "outputs": [
        {
          "output_type": "stream",
          "text": [
            "Normal Equation solution\n",
            "y_pred = [[ 3.41096238  2.83478004  2.28324337  3.05886425  5.3665846   3.25387613\n",
            "   2.57755578  6.1523748  12.25469138  2.73488132]]\n",
            "y_test = [[0.92695]\n",
            " [0.152  ]\n",
            " [2.8214 ]\n",
            " [1.8451 ]\n",
            " [4.2959 ]\n",
            " [7.2029 ]\n",
            " [1.9869 ]\n",
            " [0.14454]\n",
            " [9.0551 ]\n",
            " [0.61705]]\n",
            "score = 4.527552359862948\n",
            "theta = [[-3.76978185  1.19639191]]\n",
            "Gradient Descent solution\n",
            "y_pred = [[ 3.4109624   2.83478006  2.28324339  3.05886427  5.36658461  3.25387615\n",
            "   2.5775558   6.15237481 12.25469136  2.73488134]]\n",
            "y_test = [[0.92695]\n",
            " [0.152  ]\n",
            " [2.8214 ]\n",
            " [1.8451 ]\n",
            " [4.2959 ]\n",
            " [7.2029 ]\n",
            " [1.9869 ]\n",
            " [0.14454]\n",
            " [9.0551 ]\n",
            " [0.61705]]\n",
            "score = 4.527552359862949\n",
            "theta = [[-3.76978181  1.1963919 ]]\n"
          ],
          "name": "stdout"
        }
      ]
    },
    {
      "cell_type": "code",
      "metadata": {
        "colab": {
          "base_uri": "https://localhost:8080/",
          "height": 296
        },
        "id": "ljsgqZeMJZow",
        "outputId": "4a729545-7528-4cde-8999-05cdb2171079"
      },
      "source": [
        "theta = [-3.76978185 , 1.19639191]\n",
        "x = np.linspace(5,25,1000)\n",
        "theta = [-3.76978185 ,  1.19639191]\n",
        "y = theta[0] + x * theta[1]\n",
        "df.plot.scatter(x=\"population\", y=\"profit\");\n",
        "plt.plot(x, y, 'g')"
      ],
      "execution_count": null,
      "outputs": [
        {
          "output_type": "execute_result",
          "data": {
            "text/plain": [
              "[<matplotlib.lines.Line2D at 0x7fcbe6847d90>]"
            ]
          },
          "metadata": {
            "tags": []
          },
          "execution_count": 45
        },
        {
          "output_type": "display_data",
          "data": {
            "image/png": "[encoded data removed]",
            "text/plain": [
              "<Figure size 432x288 with 1 Axes>"
            ]
          },
          "metadata": {
            "tags": [],
            "needs_background": "light"
          }
        }
      ]
    }
  ]
}