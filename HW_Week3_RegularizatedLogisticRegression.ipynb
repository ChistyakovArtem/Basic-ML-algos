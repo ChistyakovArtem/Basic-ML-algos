{
  "nbformat": 4,
  "nbformat_minor": 0,
  "metadata": {
    "colab": {
      "name": "HW_Week3-RegularizatedLogisticRegression.ipynb",
      "provenance": [],
      "collapsed_sections": []
    },
    "kernelspec": {
      "display_name": "Python 3",
      "name": "python3"
    },
    "language_info": {
      "name": "python"
    }
  },
  "cells": [
    {
      "cell_type": "code",
      "metadata": {
        "id": "hPOu56MxYVh0"
      },
      "source": [
        "import numpy as np\n",
        "import pandas as pd\n",
        "import matplotlib.pyplot as plt\n",
        "import sklearn\n",
        "from sklearn.model_selection import train_test_split"
      ],
      "execution_count": null,
      "outputs": []
    },
    {
      "cell_type": "code",
      "metadata": {
        "id": "gya-JbgwEnYo"
      },
      "source": [
        "def sigmoid(z):\n",
        "    return 1 / (1 + np.exp(-z))"
      ],
      "execution_count": null,
      "outputs": []
    },
    {
      "cell_type": "code",
      "metadata": {
        "id": "9Wzfb_dxfKtu"
      },
      "source": [
        "class MulticlassLogisticRegression:\n",
        "\n",
        "    def hyp(self, features, weights):\n",
        "        return sigmoid(features @ weights).reshape(features.shape[0], 1)\n",
        "\n",
        "    def decision_boundary(self, prob):\n",
        "        return (prob >= 0.5) * 1\n",
        "\n",
        "    def score_function(self, features, labels, weights):\n",
        "        pred = self.decision_boundary(self.hyp(features,  weights))\n",
        "        return np.count_nonzero(pred == labels) / labels.shape[0]\n",
        "\n",
        "    def cost_function(self, features, labels, weights):\n",
        "        m, n = features.shape\n",
        "        h = self.hyp(features, weights)\n",
        "        cost = - labels * np.log(h + 0.00000001) - (1 - labels) * np.log(1 - h + 0.00000001) # to avoid log(0)\n",
        "\n",
        "        lmd = 0.001\n",
        "        plus = np.zeros(weights.shape)\n",
        "        plus += lmd * np.sum(weights * weights)\n",
        "        plus[0] = 0\n",
        "        sum_plus = np.sum(plus)\n",
        "\n",
        "        return cost.sum() / m + sum_plus / m\n",
        "\n",
        "    def update_weights(self, features, labels, weights, lr):\n",
        "        m, n = features.shape\n",
        "\n",
        "        h = self.hyp(features, weights)\n",
        "        loss = h - labels\n",
        "        gradient = (features.T @ loss) / m\n",
        "\n",
        "        lmd = 0.001\n",
        "        plus = np.zeros(weights.shape)\n",
        "        plus += 2 * lmd * np.sum(weights) / m\n",
        "        plus[0] = 0\n",
        "\n",
        "        gradient = gradient + plus\n",
        "        return weights - lr * gradient\n",
        "\n",
        "    def fit(self, features, labels):\n",
        "        m, n = features.shape\n",
        "        lr = 0.1\n",
        "        cnt_it = 1000000\n",
        "        dlr = (lr - 0.0003) / cnt_it\n",
        "        story = []\n",
        "        weights = np.random.rand(n).reshape(n, 1) * 10\n",
        "\n",
        "        for it in range(cnt_it):\n",
        "            weights = self.update_weights(features, labels, weights, lr)\n",
        "            lr -= dlr\n",
        "            if it % 10000 == 0:\n",
        "                story.append(self.cost_function(features, labels, weights))\n",
        "\n",
        "        self.weights, self.story = weights, story\n",
        "\n",
        "    def calculate_cost_score(self, features, labels):\n",
        "        self.cost = self.cost_function(features, labels, self.weights)\n",
        "        self.score = self.score_function(features, labels, self.weights)\n",
        "    \n",
        "    def predict(self, features):\n",
        "        return self.decision_boundary(self.hyp(features, self.weights))\n",
        "\n",
        "    def get_info(self):\n",
        "        return [self.weights, self.score, self.story, self.cost]"
      ],
      "execution_count": null,
      "outputs": []
    },
    {
      "cell_type": "code",
      "metadata": {
        "id": "Dz04MavTwMXK"
      },
      "source": [
        "def data_split(df, test_size):\n",
        "    df = df.sample(frac=1).reset_index(drop=True)\n",
        "    features, labels = df.iloc[ : , : -1 ], df.iloc[ : , [-1] ]\n",
        "    features.insert(2, \"x1x2\", features['exam1'] * features['exam2'], True)\n",
        "    # x = (x - x.mean()) / x.std()\n",
        "    # y = (y - y.mean()) / y.std()\n",
        "\n",
        "    features, labels = features.to_numpy(), labels.to_numpy()\n",
        "    \n",
        "    features = np.c_[np.ones(features.shape[0]), features]\n",
        "\n",
        "    features_train, features_test = features[ : -test_size , : ], features[ -test_size : , : ]\n",
        "    labels_train, labels_test = labels[ : -test_size , : ], labels[ -test_size : , : ]\n",
        "    \n",
        "    return [features_train, features_test, labels_train, labels_test]"
      ],
      "execution_count": null,
      "outputs": []
    },
    {
      "cell_type": "code",
      "metadata": {
        "id": "P2QBqzf6rSaW"
      },
      "source": [
        "def MulticlassLogisticRegressionModel(df):\n",
        "    MyMulticlassLogisticRegression = MulticlassLogisticRegression()\n",
        "\n",
        "    features_train, features_test, labels_train, labels_test = data_split(df, 40)\n",
        "\n",
        "    MyMulticlassLogisticRegression.fit(features_train, labels_train)\n",
        "    MyMulticlassLogisticRegression.calculate_cost_score(features_test, labels_test)\n",
        "\n",
        "    labels_pred = MyMulticlassLogisticRegression.predict(features_test)\n",
        "\n",
        "    info = MyMulticlassLogisticRegression.get_info()\n",
        "\n",
        "    return info"
      ],
      "execution_count": null,
      "outputs": []
    },
    {
      "cell_type": "code",
      "metadata": {
        "colab": {
          "base_uri": "https://localhost:8080/",
          "height": 517
        },
        "id": "jE6b7oDPlnAm",
        "outputId": "2b6b0f7f-7fa4-44d6-c1b4-5690d3507dbb"
      },
      "source": [
        "df = pd.read_csv('HW_Week3-LogisticRegression_data.csv', index_col = [0])\n",
        "print(df)\n",
        "df1 = df[df['admited?'] == 0]\n",
        "df2 = df[df['admited?'] == 1]\n",
        "ax = df1.plot.scatter(x = 'exam1', y = 'exam2', c = 'g')\n",
        "df2.plot.scatter(x = 'exam1', y = 'exam2', c = 'r', ax = ax)\n",
        "plt.show()"
      ],
      "execution_count": null,
      "outputs": [
        {
          "output_type": "stream",
          "text": [
            "        exam1      exam2  admited?\n",
            "0   34.623660  78.024693       0.0\n",
            "1   30.286711  43.894998       0.0\n",
            "2   35.847409  72.902198       0.0\n",
            "3   60.182599  86.308552       1.0\n",
            "4   79.032736  75.344376       1.0\n",
            "..        ...        ...       ...\n",
            "95  83.489163  48.380286       1.0\n",
            "96  42.261701  87.103851       1.0\n",
            "97  99.315009  68.775409       1.0\n",
            "98  55.340018  64.931938       1.0\n",
            "99  74.775893  89.529813       1.0\n",
            "\n",
            "[100 rows x 3 columns]\n"
          ],
          "name": "stdout"
        },
        {
          "output_type": "display_data",
          "data": {
            "image/png": "[encoded data removed]",
            "text/plain": [
              "<Figure size 432x288 with 1 Axes>"
            ]
          },
          "metadata": {
            "tags": [],
            "needs_background": "light"
          }
        }
      ]
    },
    {
      "cell_type": "code",
      "metadata": {
        "colab": {
          "base_uri": "https://localhost:8080/"
        },
        "id": "ZR-bHJb0m4UN",
        "outputId": "4ffe95c8-32b8-4d60-8052-ba3645a20e56"
      },
      "source": [
        "weights, score, story, cost = MulticlassLogisticRegressionModel(df)"
      ],
      "execution_count": null,
      "outputs": [
        {
          "output_type": "stream",
          "text": [
            "/usr/local/lib/python3.7/dist-packages/ipykernel_launcher.py:2: RuntimeWarning: overflow encountered in exp\n",
            "  \n"
          ],
          "name": "stderr"
        }
      ]
    },
    {
      "cell_type": "code",
      "metadata": {
        "colab": {
          "base_uri": "https://localhost:8080/"
        },
        "id": "7LSlCTXauFjX",
        "outputId": "8398e151-59dc-4d01-f489-6e9b26b65831"
      },
      "source": [
        "print(weights)"
      ],
      "execution_count": null,
      "outputs": [
        {
          "output_type": "stream",
          "text": [
            "[[ -808.62495329]\n",
            " [-3025.70247079]\n",
            " [-2921.65237483]\n",
            " [  104.24328109]]\n"
          ],
          "name": "stdout"
        }
      ]
    },
    {
      "cell_type": "code",
      "metadata": {
        "colab": {
          "base_uri": "https://localhost:8080/",
          "height": 279
        },
        "id": "XFOiXdcp4O3n",
        "outputId": "d6b49d1d-435b-4288-8953-b52f4beb923d"
      },
      "source": [
        "ax = df1.plot.scatter(x = 'exam1', y = 'exam2', c = 'g')\n",
        "df2.plot.scatter(x = 'exam1', y = 'exam2', c = 'r', ax = ax)\n",
        "\n",
        "x = np.linspace(40, 100, 100)\n",
        "y = (- weights[0] - weights[1] * x) / (weights[2] + weights[3] * x)\n",
        "plt.plot(x, y, '-r', label='y=2x+1')\n",
        "\n",
        "plt.show()"
      ],
      "execution_count": null,
      "outputs": [
        {
          "output_type": "display_data",
          "data": {
            "image/png": "[encoded data removed]",
            "text/plain": [
              "<Figure size 432x288 with 1 Axes>"
            ]
          },
          "metadata": {
            "tags": [],
            "needs_background": "light"
          }
        }
      ]
    },
    {
      "cell_type": "code",
      "metadata": {
        "id": "1O1WqvEMEQSm",
        "colab": {
          "base_uri": "https://localhost:8080/",
          "height": 302
        },
        "outputId": "0d419d3b-f67e-484b-bf09-010252305b4b"
      },
      "source": [
        "x = np.arange(len(story))\n",
        "print(story)\n",
        "plt.plot(x, story)\n",
        "plt.show()"
      ],
      "execution_count": null,
      "outputs": [
        {
          "output_type": "stream",
          "text": [
            "[12.10346756576194, 1271.7865411155296, 2973.5675734857873, 3560.421172026164, 4030.781783869403, 4654.974356762308, 5306.094774114669, 5740.531284724593, 6157.192808266189, 6547.667839898436, 6759.590667315759, 6896.529688148752, 6827.502369072011, 6680.3983870899265, 6530.757932796464, 6384.136972678329, 6239.22032125759, 6093.366717954716, 5947.54191509249, 5809.046267445661, 5680.673757176623, 5555.3402090845075, 5436.543593674713, 5314.732021374998, 5189.896387060094, 5054.144204886725, 4924.147141662541, 4800.932009031643, 4686.422889669828, 4572.831173858165, 4472.718635976689, 4366.00858926728, 4260.678220183561, 4164.418513283026, 4082.7171402544486, 3997.9494758895476, 3916.8796942443223, 3835.0037823814464, 3758.23019722306, 3687.7472976691315, 3604.886909230126, 3527.16937825692, 3455.376247478364, 3396.420926998724, 3330.9198203637534, 3269.6327391868695, 3207.288090608426, 3139.367135664323, 3077.8950497140377, 3014.4570256985094, 2940.627877340423, 2899.1053676785095, 2828.67712569809, 2763.1754108733526, 2685.666324779076, 2610.842528914612, 2512.5047389589704, 2421.9241802292613, 2336.9397754645797, 2257.0868997318007, 2182.48371982165, 2111.5635322156813, 2045.3013269692503, 1982.941213857169, 1924.2118867865897, 1867.1197097475922, 1813.1082625286363, 1763.218280443834, 1716.292954374145, 1672.194815611926, 1629.5244866646801, 1587.9732781982093, 1547.9545368207844, 1510.6938107274798, 1471.6273430858287, 1424.043774551099, 1378.390440030695, 1335.5761975027756, 1295.1953266499424, 1257.3342942993136, 1222.7485645456272, 1190.0486828315509, 1159.5595693086602, 1131.8361071242514, 1105.656334954386, 1081.366030982287, 1059.9268957916256, 1039.701029664555, 1020.6436234466868, 1003.9034967053093, 989.1058271089961, 975.278723251795, 963.29017620849, 952.7838880582144, 943.7155441454064, 936.0470934269051, 929.74654990755, 924.7876841415367, 921.1500382604836, 918.8184908014813]\n"
          ],
          "name": "stdout"
        },
        {
          "output_type": "display_data",
          "data": {
            "image/png": "[encoded data removed]",
            "text/plain": [
              "<Figure size 432x288 with 1 Axes>"
            ]
          },
          "metadata": {
            "tags": [],
            "needs_background": "light"
          }
        }
      ]
    },
    {
      "cell_type": "code",
      "metadata": {
        "id": "VQRbuqY_T1v6",
        "colab": {
          "base_uri": "https://localhost:8080/"
        },
        "outputId": "594fb198-f923-42d6-e311-b5c7ff0f662d"
      },
      "source": [
        "print(score)"
      ],
      "execution_count": null,
      "outputs": [
        {
          "output_type": "stream",
          "text": [
            "0.975\n"
          ],
          "name": "stdout"
        }
      ]
    },
    {
      "cell_type": "code",
      "metadata": {
        "id": "xS83Qcg6eYqB",
        "colab": {
          "base_uri": "https://localhost:8080/"
        },
        "outputId": "cfdc3307-7934-4935-ce71-61d11223745d"
      },
      "source": [
        "import sklearn\n",
        "from sklearn.linear_model import LogisticRegression\n",
        "\n",
        "features, labels = df.iloc[ : , : -1 ], df.iloc[ : , [-1] ]\n",
        "\n",
        "labels = labels.values.ravel()\n",
        "\n",
        "features.insert(0, \"t0\", np.ones(features.shape[0]), True)\n",
        "features_train,features_test,labels_train,labels_test = train_test_split(features, labels, test_size = 0.4)\n",
        "\n",
        "clf = LogisticRegression(random_state=0).fit(features_train, labels_train)\n",
        "clf.predict(features_test)\n",
        "\n",
        "clf.predict_proba(features_test)\n",
        "\n",
        "clf.score(features_test, labels_test)"
      ],
      "execution_count": null,
      "outputs": [
        {
          "output_type": "execute_result",
          "data": {
            "text/plain": [
              "0.875"
            ]
          },
          "metadata": {
            "tags": []
          },
          "execution_count": 118
        }
      ]
    }
  ]
}