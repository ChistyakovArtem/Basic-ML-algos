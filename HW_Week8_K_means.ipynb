{
  "nbformat": 4,
  "nbformat_minor": 0,
  "metadata": {
    "colab": {
      "name": "HW_Week8-K-means.ipynb",
      "provenance": [],
      "collapsed_sections": []
    },
    "kernelspec": {
      "name": "python3",
      "display_name": "Python 3"
    },
    "language_info": {
      "name": "python"
    }
  },
  "cells": [
    {
      "cell_type": "code",
      "metadata": {
        "id": "DOXx9iBt2kr9"
      },
      "source": [
        "import numpy as np\n",
        "import pandas as pd\n",
        "import matplotlib.pyplot as plt\n",
        "import scipy.spatial.distance as sd\n",
        "import scipy.io as sio"
      ],
      "execution_count": null,
      "outputs": []
    },
    {
      "cell_type": "code",
      "metadata": {
        "id": "QH7KCwDYSVNk"
      },
      "source": [
        "def mean_normalize(features):\n",
        "    # return (features - features.mean()) / features.std()\n",
        "    return features"
      ],
      "execution_count": null,
      "outputs": []
    },
    {
      "cell_type": "code",
      "metadata": {
        "id": "VDarVfCC2Yyy"
      },
      "source": [
        "class Kmeans:\n",
        "\n",
        "    def __init__(self, number_of_clusters, features):\n",
        "        self.number_of_clusters = number_of_clusters\n",
        "        self.features = mean_normalize(features)\n",
        "        self.n = self.features.shape[1]\n",
        "    \n",
        "    def random_init_cluster_centroids(self):\n",
        "        t = self.features\n",
        "        np.random.shuffle(t)\n",
        "        return t[:self.number_of_clusters]\n",
        "\n",
        "    def compute_cluster_assigment(self, cluster_centroids):\n",
        "        return np.argmin(sd.cdist(cluster_centroids, self.features), axis = 0)\n",
        "\n",
        "    def compute_new_cluster_centroids(self, cluster_assigment):\n",
        "        # to-do with-out out-loop numpy\n",
        "        new_cluster_centroids = np.zeros((self.number_of_clusters, self.n))\n",
        "        for i in range(self.number_of_clusters):\n",
        "            new_cluster_centroids[i] = self.features[cluster_assigment == i].mean(axis = 0)\n",
        "        return new_cluster_centroids\n",
        "\n",
        "    def fit_iter(self):\n",
        "        cluster_centroids = self.random_init_cluster_centroids()\n",
        "        while True:\n",
        "            cluster_assigment = self.compute_cluster_assigment(cluster_centroids)\n",
        "            new_cluster_centroids = self.compute_new_cluster_centroids(cluster_assigment)\n",
        "            if (new_cluster_centroids == cluster_centroids).all:\n",
        "                break\n",
        "            \n",
        "            cluster_centroids = new_cluster_centroids\n",
        "\n",
        "        return new_cluster_centroids\n",
        "\n",
        "    def get_distortion(self, cluster_centroids):\n",
        "        cluster_assigment = self.compute_cluster_assigment(cluster_centroids)\n",
        "        cluster_sum_distances = np.zeros(self.number_of_clusters)\n",
        "\n",
        "        for i in range(self.number_of_clusters):\n",
        "            tmp = self.features[cluster_assigment == i]\n",
        "            cluster_sum_distances[i] = np.sum(sd.cdist(cluster_centroids[i].reshape(1, self.n), tmp), axis = None)\n",
        "\n",
        "        return np.sum(cluster_sum_distances, axis = None)\n",
        "\n",
        "    def fit(self, cnt_iters):\n",
        "        cluster_centroids = self.fit_iter()\n",
        "        distortion = self.get_distortion(cluster_centroids)\n",
        "\n",
        "        min_distortion = distortion\n",
        "        best_cluster_centroids = cluster_centroids\n",
        "\n",
        "        for iter in range(cnt_iters):\n",
        "            cluster_centroids = self.fit_iter()\n",
        "            distortion = self.get_distortion(cluster_centroids)\n",
        "\n",
        "            if distortion < min_distortion:\n",
        "                min_distortion = distortion\n",
        "                best_cluster_centroids = cluster_centroids\n",
        "\n",
        "        self.cluster_centroids = best_cluster_centroids\n",
        "        self.cluster_assigment = self.compute_cluster_assigment(self.cluster_centroids)\n",
        "\n",
        "    def get_cluster_assigment(self):\n",
        "        return self.cluster_assigment\n",
        "\n",
        "    def get_cluster_centroids(self):\n",
        "        return self.cluster_centroids"
      ],
      "execution_count": null,
      "outputs": []
    },
    {
      "cell_type": "markdown",
      "metadata": {
        "id": "XH2Nf_ZSL9sI"
      },
      "source": [
        "Simple data"
      ]
    },
    {
      "cell_type": "code",
      "metadata": {
        "id": "6Ca8J0y4L8yk"
      },
      "source": [
        "x = np.zeros((24, 4))\n",
        "t = 0\n",
        "for i in range(3):\n",
        "    for j in range(4):\n",
        "        x[t] = [i, j, 10, 15]\n",
        "        t += 1\n",
        "\n",
        "for i in range(4):\n",
        "    for j in range(3):\n",
        "        x[t] = [i + 10, j + 10, 10, 15]\n",
        "        t += 1"
      ],
      "execution_count": null,
      "outputs": []
    },
    {
      "cell_type": "code",
      "metadata": {
        "id": "VpfePe7wMg4J"
      },
      "source": [
        "km = Kmeans(2, x)\n",
        "km.fit(cnt_iters = 10)\n",
        "cluster_centroids = km.get_cluster_centroids()\n",
        "cluster_assigment = km.get_cluster_assigment()"
      ],
      "execution_count": null,
      "outputs": []
    },
    {
      "cell_type": "code",
      "metadata": {
        "colab": {
          "base_uri": "https://localhost:8080/"
        },
        "id": "1FFhZYXTMjdm",
        "outputId": "f243576b-ce48-49af-d5df-95901faa093e"
      },
      "source": [
        "print(cluster_centroids)"
      ],
      "execution_count": null,
      "outputs": [
        {
          "output_type": "stream",
          "text": [
            "[[11.5 11.  10.  15. ]\n",
            " [ 1.   1.5 10.  15. ]]\n"
          ],
          "name": "stdout"
        }
      ]
    },
    {
      "cell_type": "code",
      "metadata": {
        "colab": {
          "base_uri": "https://localhost:8080/",
          "height": 265
        },
        "id": "V6x-d8hCMk0a",
        "outputId": "a7c88cb0-132f-437a-a836-6c40e5be2a8b"
      },
      "source": [
        "cluster_zero = x[cluster_assigment == 0]\n",
        "plt.plot(cluster_zero[:, 0], cluster_zero[:, 1], 'r.')\n",
        "\n",
        "cluster_one = x[cluster_assigment == 1]\n",
        "plt.plot(cluster_one[:, 0], cluster_one[:, 1], 'b.')\n",
        "\n",
        "plt.plot(cluster_centroids[:, 0], cluster_centroids[:, 1], 'kx')\n",
        "plt.show()"
      ],
      "execution_count": null,
      "outputs": [
        {
          "output_type": "display_data",
          "data": {
            "image/png": "[encoded data removed]",
            "text/plain": [
              "<Figure size 432x288 with 1 Axes>"
            ]
          },
          "metadata": {
            "tags": [],
            "needs_background": "light"
          }
        }
      ]
    },
    {
      "cell_type": "markdown",
      "metadata": {
        "id": "sjTprZF3MpGG"
      },
      "source": [
        "Real data"
      ]
    },
    {
      "cell_type": "code",
      "metadata": {
        "id": "bhfrRbMMc_Dv"
      },
      "source": [
        "data = sio.loadmat('HW_Week8-K-means_data.mat')\n",
        "x = data['X']"
      ],
      "execution_count": null,
      "outputs": []
    },
    {
      "cell_type": "code",
      "metadata": {
        "id": "3zNWV8XS7Bx5"
      },
      "source": [
        "km = Kmeans(2, x)\n",
        "km.fit(cnt_iters = 100)\n",
        "cluster_centroids = km.get_cluster_centroids()\n",
        "cluster_assigment = km.get_cluster_assigment()"
      ],
      "execution_count": null,
      "outputs": []
    },
    {
      "cell_type": "code",
      "metadata": {
        "colab": {
          "base_uri": "https://localhost:8080/"
        },
        "id": "FnLpJ1rwKj7S",
        "outputId": "bbe06e24-7021-47e7-9378-a9a5f5fc7913"
      },
      "source": [
        "print(cluster_centroids)"
      ],
      "execution_count": null,
      "outputs": [
        {
          "output_type": "stream",
          "text": [
            "[[2.86434884 4.08286312]\n",
            " [4.80385995 5.66897128]]\n"
          ],
          "name": "stdout"
        }
      ]
    },
    {
      "cell_type": "code",
      "metadata": {
        "colab": {
          "base_uri": "https://localhost:8080/",
          "height": 265
        },
        "id": "t0K6J1wX9Lf_",
        "outputId": "7f28650b-b9d1-40b5-f27c-286267b09e1e"
      },
      "source": [
        "cluster_zero = x[cluster_assigment == 0]\n",
        "plt.plot(cluster_zero[:, 0], cluster_zero[:, 1], 'r.')\n",
        "\n",
        "cluster_one = x[cluster_assigment == 1]\n",
        "plt.plot(cluster_one[:, 0], cluster_one[:, 1], 'b.')\n",
        "\n",
        "plt.plot(cluster_centroids[:, 0], cluster_centroids[:, 1], 'kx')\n",
        "plt.show()"
      ],
      "execution_count": null,
      "outputs": [
        {
          "output_type": "display_data",
          "data": {
            "image/png": "[encoded data removed]",
            "text/plain": [
              "<Figure size 432x288 with 1 Axes>"
            ]
          },
          "metadata": {
            "tags": [],
            "needs_background": "light"
          }
        }
      ]
    }
  ]
}